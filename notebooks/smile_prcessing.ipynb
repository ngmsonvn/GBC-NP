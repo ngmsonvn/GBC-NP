{
 "cells": [
  {
   "cell_type": "code",
   "execution_count": 3,
   "metadata": {},
   "outputs": [],
   "source": [
    "import sys\n",
    "sys.path.append('../')\n",
    "\n",
    "from modules import SMILE"
   ]
  },
  {
   "cell_type": "code",
   "execution_count": 4,
   "metadata": {},
   "outputs": [
    {
     "data": {
      "text/html": [
       "<div>\n",
       "<style scoped>\n",
       "    .dataframe tbody tr th:only-of-type {\n",
       "        vertical-align: middle;\n",
       "    }\n",
       "\n",
       "    .dataframe tbody tr th {\n",
       "        vertical-align: top;\n",
       "    }\n",
       "\n",
       "    .dataframe thead th {\n",
       "        text-align: right;\n",
       "    }\n",
       "</style>\n",
       "<table border=\"1\" class=\"dataframe\">\n",
       "  <thead>\n",
       "    <tr style=\"text-align: right;\">\n",
       "      <th></th>\n",
       "      <th>SMILES</th>\n",
       "      <th>ID</th>\n",
       "    </tr>\n",
       "  </thead>\n",
       "  <tbody>\n",
       "    <tr>\n",
       "      <th>0</th>\n",
       "      <td>Cc1ccc(cc1)C2=NN(C(C2)c3ccc4ccccc4c3)C(=S)N</td>\n",
       "      <td>CHEMBL2324873</td>\n",
       "    </tr>\n",
       "    <tr>\n",
       "      <th>1</th>\n",
       "      <td>COc1ccc(cc1)C2=NN(C(C2)c3cccc4ccccc34)C(=S)N</td>\n",
       "      <td>CHEMBL2325106</td>\n",
       "    </tr>\n",
       "    <tr>\n",
       "      <th>2</th>\n",
       "      <td>Nc1nc(Nc2cccc(Br)c2)c3cc(CCc4ccccn4)[nH]c3n1</td>\n",
       "      <td>CHEMBL2335376</td>\n",
       "    </tr>\n",
       "    <tr>\n",
       "      <th>3</th>\n",
       "      <td>NC(=N)Nc1ccc(cc1)C(=O)O</td>\n",
       "      <td>CHEMBL20767</td>\n",
       "    </tr>\n",
       "    <tr>\n",
       "      <th>4</th>\n",
       "      <td>O=S(=O)(NCc1ccccc1)NCc2ccccc2</td>\n",
       "      <td>CHEMBL229190</td>\n",
       "    </tr>\n",
       "    <tr>\n",
       "      <th>...</th>\n",
       "      <td>...</td>\n",
       "      <td>...</td>\n",
       "    </tr>\n",
       "    <tr>\n",
       "      <th>207</th>\n",
       "      <td>CCN(CC)C(=O)CC[C@H](C[C@H](N)C(=O)O)C(=O)O</td>\n",
       "      <td>CHEMBL2312399</td>\n",
       "    </tr>\n",
       "    <tr>\n",
       "      <th>208</th>\n",
       "      <td>CN(C)C(=O)CC[C@H](C[C@H](N)C(=O)O)C(=O)O</td>\n",
       "      <td>CHEMBL2312398</td>\n",
       "    </tr>\n",
       "    <tr>\n",
       "      <th>209</th>\n",
       "      <td>N[C@@H](C[C@@H](CCC(=O)Nc1ccccc1)C(=O)O)C(=O)O</td>\n",
       "      <td>CHEMBL2312397</td>\n",
       "    </tr>\n",
       "    <tr>\n",
       "      <th>210</th>\n",
       "      <td>CC(=O)Nc1nc(CCc2ccc(NC(=N)N)cc2)cs1</td>\n",
       "      <td>CHEMBL2326864</td>\n",
       "    </tr>\n",
       "    <tr>\n",
       "      <th>211</th>\n",
       "      <td>CCCCC\\C=C/C\\C=C/C\\C=C/C\\C=C/CCCCS(=O)(=O)NCCO</td>\n",
       "      <td>CHEMBL320106</td>\n",
       "    </tr>\n",
       "  </tbody>\n",
       "</table>\n",
       "<p>212 rows × 2 columns</p>\n",
       "</div>"
      ],
      "text/plain": [
       "                                             SMILES             ID\n",
       "0       Cc1ccc(cc1)C2=NN(C(C2)c3ccc4ccccc4c3)C(=S)N  CHEMBL2324873\n",
       "1      COc1ccc(cc1)C2=NN(C(C2)c3cccc4ccccc34)C(=S)N  CHEMBL2325106\n",
       "2      Nc1nc(Nc2cccc(Br)c2)c3cc(CCc4ccccn4)[nH]c3n1  CHEMBL2335376\n",
       "3                           NC(=N)Nc1ccc(cc1)C(=O)O    CHEMBL20767\n",
       "4                     O=S(=O)(NCc1ccccc1)NCc2ccccc2   CHEMBL229190\n",
       "..                                              ...            ...\n",
       "207      CCN(CC)C(=O)CC[C@H](C[C@H](N)C(=O)O)C(=O)O  CHEMBL2312399\n",
       "208        CN(C)C(=O)CC[C@H](C[C@H](N)C(=O)O)C(=O)O  CHEMBL2312398\n",
       "209  N[C@@H](C[C@@H](CCC(=O)Nc1ccccc1)C(=O)O)C(=O)O  CHEMBL2312397\n",
       "210             CC(=O)Nc1nc(CCc2ccc(NC(=N)N)cc2)cs1  CHEMBL2326864\n",
       "211   CCCCC\\C=C/C\\C=C/C\\C=C/C\\C=C/CCCCS(=O)(=O)NCCO   CHEMBL320106\n",
       "\n",
       "[212 rows x 2 columns]"
      ]
     },
     "execution_count": 4,
     "metadata": {},
     "output_type": "execute_result"
    }
   ],
   "source": [
    "path = \"/home/sonn/Sonn/Workspace/Projects/Anti-Obesity_GBC_NetworkPharmacology/data/raw/validation_molecules_all.smi\"\n",
    "\n",
    "SMILE.SMILEtoDataFrame(path)"
   ]
  }
 ],
 "metadata": {
  "kernelspec": {
   "display_name": "WSAIPython3.11",
   "language": "python",
   "name": "python3"
  },
  "language_info": {
   "codemirror_mode": {
    "name": "ipython",
    "version": 3
   },
   "file_extension": ".py",
   "mimetype": "text/x-python",
   "name": "python",
   "nbconvert_exporter": "python",
   "pygments_lexer": "ipython3",
   "version": "3.11.10"
  }
 },
 "nbformat": 4,
 "nbformat_minor": 2
}
